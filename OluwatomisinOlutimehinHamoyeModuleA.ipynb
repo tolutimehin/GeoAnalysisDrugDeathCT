{
  "nbformat": 4,
  "nbformat_minor": 0,
  "metadata": {
    "colab": {
      "name": "OluwatomisinOlutimehinHamoyeModuleA.ipynb",
      "provenance": [],
      "authorship_tag": "ABX9TyNecKmMD/JYF/lbNnpAvb0h",
      "include_colab_link": true
    },
    "kernelspec": {
      "name": "python3",
      "display_name": "Python 3"
    },
    "language_info": {
      "name": "python"
    }
  },
  "cells": [
    {
      "cell_type": "markdown",
      "metadata": {
        "id": "view-in-github",
        "colab_type": "text"
      },
      "source": [
        "<a href=\"https://colab.research.google.com/github/tolutimehin/GeoAnalysisDrugDeathCT/blob/main/OluwatomisinOlutimehinHamoyeModuleA.ipynb\" target=\"_parent\"><img src=\"https://colab.research.google.com/assets/colab-badge.svg\" alt=\"Open In Colab\"/></a>"
      ]
    },
    {
      "cell_type": "code",
      "metadata": {
        "id": "FnrN92kEXXfJ"
      },
      "source": [
        "import pandas as pd"
      ],
      "execution_count": 1,
      "outputs": []
    },
    {
      "cell_type": "code",
      "metadata": {
        "id": "hoVATFoRXi2o"
      },
      "source": [
        "url = \"https://raw.githubusercontent.com/WalePhenomenon/climate_change/master/fuel_ferc1.csv\""
      ],
      "execution_count": 2,
      "outputs": []
    },
    {
      "cell_type": "code",
      "metadata": {
        "id": "lLL_ObJDXqAp"
      },
      "source": [
        "x = pd.read_csv(url)"
      ],
      "execution_count": 3,
      "outputs": []
    },
    {
      "cell_type": "code",
      "metadata": {
        "colab": {
          "base_uri": "https://localhost:8080/",
          "height": 419
        },
        "id": "QwqnLjW1XuJ9",
        "outputId": "753e1a74-7a68-4e26-8921-3d6a25759f9b"
      },
      "source": [
        "x"
      ],
      "execution_count": 4,
      "outputs": [
        {
          "output_type": "execute_result",
          "data": {
            "text/html": [
              "<div>\n",
              "<style scoped>\n",
              "    .dataframe tbody tr th:only-of-type {\n",
              "        vertical-align: middle;\n",
              "    }\n",
              "\n",
              "    .dataframe tbody tr th {\n",
              "        vertical-align: top;\n",
              "    }\n",
              "\n",
              "    .dataframe thead th {\n",
              "        text-align: right;\n",
              "    }\n",
              "</style>\n",
              "<table border=\"1\" class=\"dataframe\">\n",
              "  <thead>\n",
              "    <tr style=\"text-align: right;\">\n",
              "      <th></th>\n",
              "      <th>record_id</th>\n",
              "      <th>utility_id_ferc1</th>\n",
              "      <th>report_year</th>\n",
              "      <th>plant_name_ferc1</th>\n",
              "      <th>fuel_type_code_pudl</th>\n",
              "      <th>fuel_unit</th>\n",
              "      <th>fuel_qty_burned</th>\n",
              "      <th>fuel_mmbtu_per_unit</th>\n",
              "      <th>fuel_cost_per_unit_burned</th>\n",
              "      <th>fuel_cost_per_unit_delivered</th>\n",
              "      <th>fuel_cost_per_mmbtu</th>\n",
              "    </tr>\n",
              "  </thead>\n",
              "  <tbody>\n",
              "    <tr>\n",
              "      <th>0</th>\n",
              "      <td>f1_fuel_1994_12_1_0_7</td>\n",
              "      <td>1</td>\n",
              "      <td>1994</td>\n",
              "      <td>rockport</td>\n",
              "      <td>coal</td>\n",
              "      <td>ton</td>\n",
              "      <td>5377489.0</td>\n",
              "      <td>16.590</td>\n",
              "      <td>18.59</td>\n",
              "      <td>18.53</td>\n",
              "      <td>1.121</td>\n",
              "    </tr>\n",
              "    <tr>\n",
              "      <th>1</th>\n",
              "      <td>f1_fuel_1994_12_1_0_10</td>\n",
              "      <td>1</td>\n",
              "      <td>1994</td>\n",
              "      <td>rockport total plant</td>\n",
              "      <td>coal</td>\n",
              "      <td>ton</td>\n",
              "      <td>10486945.0</td>\n",
              "      <td>16.592</td>\n",
              "      <td>18.58</td>\n",
              "      <td>18.53</td>\n",
              "      <td>1.120</td>\n",
              "    </tr>\n",
              "    <tr>\n",
              "      <th>2</th>\n",
              "      <td>f1_fuel_1994_12_2_0_1</td>\n",
              "      <td>2</td>\n",
              "      <td>1994</td>\n",
              "      <td>gorgas</td>\n",
              "      <td>coal</td>\n",
              "      <td>ton</td>\n",
              "      <td>2978683.0</td>\n",
              "      <td>24.130</td>\n",
              "      <td>39.72</td>\n",
              "      <td>38.12</td>\n",
              "      <td>1.650</td>\n",
              "    </tr>\n",
              "    <tr>\n",
              "      <th>3</th>\n",
              "      <td>f1_fuel_1994_12_2_0_7</td>\n",
              "      <td>2</td>\n",
              "      <td>1994</td>\n",
              "      <td>barry</td>\n",
              "      <td>coal</td>\n",
              "      <td>ton</td>\n",
              "      <td>3739484.0</td>\n",
              "      <td>23.950</td>\n",
              "      <td>47.21</td>\n",
              "      <td>45.99</td>\n",
              "      <td>1.970</td>\n",
              "    </tr>\n",
              "    <tr>\n",
              "      <th>4</th>\n",
              "      <td>f1_fuel_1994_12_2_0_10</td>\n",
              "      <td>2</td>\n",
              "      <td>1994</td>\n",
              "      <td>chickasaw</td>\n",
              "      <td>gas</td>\n",
              "      <td>mcf</td>\n",
              "      <td>40533.0</td>\n",
              "      <td>1.000</td>\n",
              "      <td>2.77</td>\n",
              "      <td>2.77</td>\n",
              "      <td>2.570</td>\n",
              "    </tr>\n",
              "    <tr>\n",
              "      <th>...</th>\n",
              "      <td>...</td>\n",
              "      <td>...</td>\n",
              "      <td>...</td>\n",
              "      <td>...</td>\n",
              "      <td>...</td>\n",
              "      <td>...</td>\n",
              "      <td>...</td>\n",
              "      <td>...</td>\n",
              "      <td>...</td>\n",
              "      <td>...</td>\n",
              "      <td>...</td>\n",
              "    </tr>\n",
              "    <tr>\n",
              "      <th>29518</th>\n",
              "      <td>f1_fuel_2018_12_12_0_13</td>\n",
              "      <td>12</td>\n",
              "      <td>2018</td>\n",
              "      <td>neil simpson ct #1</td>\n",
              "      <td>gas</td>\n",
              "      <td>mcf</td>\n",
              "      <td>18799.0</td>\n",
              "      <td>1.059</td>\n",
              "      <td>4.78</td>\n",
              "      <td>4.78</td>\n",
              "      <td>9.030</td>\n",
              "    </tr>\n",
              "    <tr>\n",
              "      <th>29519</th>\n",
              "      <td>f1_fuel_2018_12_12_1_1</td>\n",
              "      <td>12</td>\n",
              "      <td>2018</td>\n",
              "      <td>cheyenne prairie 58%</td>\n",
              "      <td>gas</td>\n",
              "      <td>mcf</td>\n",
              "      <td>806730.0</td>\n",
              "      <td>1.050</td>\n",
              "      <td>3.65</td>\n",
              "      <td>3.65</td>\n",
              "      <td>6.950</td>\n",
              "    </tr>\n",
              "    <tr>\n",
              "      <th>29520</th>\n",
              "      <td>f1_fuel_2018_12_12_1_10</td>\n",
              "      <td>12</td>\n",
              "      <td>2018</td>\n",
              "      <td>lange ct facility</td>\n",
              "      <td>gas</td>\n",
              "      <td>mcf</td>\n",
              "      <td>104554.0</td>\n",
              "      <td>1.060</td>\n",
              "      <td>4.77</td>\n",
              "      <td>4.77</td>\n",
              "      <td>8.990</td>\n",
              "    </tr>\n",
              "    <tr>\n",
              "      <th>29521</th>\n",
              "      <td>f1_fuel_2018_12_12_1_13</td>\n",
              "      <td>12</td>\n",
              "      <td>2018</td>\n",
              "      <td>wygen 3 bhp 52%</td>\n",
              "      <td>coal</td>\n",
              "      <td>ton</td>\n",
              "      <td>315945.0</td>\n",
              "      <td>16.108</td>\n",
              "      <td>3.06</td>\n",
              "      <td>14.76</td>\n",
              "      <td>1.110</td>\n",
              "    </tr>\n",
              "    <tr>\n",
              "      <th>29522</th>\n",
              "      <td>f1_fuel_2018_12_12_1_14</td>\n",
              "      <td>12</td>\n",
              "      <td>2018</td>\n",
              "      <td>wygen 3 bhp 52%</td>\n",
              "      <td>gas</td>\n",
              "      <td>mcf</td>\n",
              "      <td>17853.0</td>\n",
              "      <td>1.059</td>\n",
              "      <td>0.00</td>\n",
              "      <td>0.00</td>\n",
              "      <td>11.680</td>\n",
              "    </tr>\n",
              "  </tbody>\n",
              "</table>\n",
              "<p>29523 rows × 11 columns</p>\n",
              "</div>"
            ],
            "text/plain": [
              "                     record_id  ...  fuel_cost_per_mmbtu\n",
              "0        f1_fuel_1994_12_1_0_7  ...                1.121\n",
              "1       f1_fuel_1994_12_1_0_10  ...                1.120\n",
              "2        f1_fuel_1994_12_2_0_1  ...                1.650\n",
              "3        f1_fuel_1994_12_2_0_7  ...                1.970\n",
              "4       f1_fuel_1994_12_2_0_10  ...                2.570\n",
              "...                        ...  ...                  ...\n",
              "29518  f1_fuel_2018_12_12_0_13  ...                9.030\n",
              "29519   f1_fuel_2018_12_12_1_1  ...                6.950\n",
              "29520  f1_fuel_2018_12_12_1_10  ...                8.990\n",
              "29521  f1_fuel_2018_12_12_1_13  ...                1.110\n",
              "29522  f1_fuel_2018_12_12_1_14  ...               11.680\n",
              "\n",
              "[29523 rows x 11 columns]"
            ]
          },
          "metadata": {},
          "execution_count": 4
        }
      ]
    },
    {
      "cell_type": "markdown",
      "metadata": {
        "id": "_UQ9zxBTlDJ3"
      },
      "source": [
        "Question 3"
      ]
    },
    {
      "cell_type": "code",
      "metadata": {
        "colab": {
          "base_uri": "https://localhost:8080/",
          "height": 266
        },
        "id": "-daJoivjhpx1",
        "outputId": "5ca71251-4259-4134-9b11-afeb9cf98400"
      },
      "source": [
        "x.groupby('fuel_type_code_pudl').mean()"
      ],
      "execution_count": 34,
      "outputs": [
        {
          "output_type": "execute_result",
          "data": {
            "text/html": [
              "<div>\n",
              "<style scoped>\n",
              "    .dataframe tbody tr th:only-of-type {\n",
              "        vertical-align: middle;\n",
              "    }\n",
              "\n",
              "    .dataframe tbody tr th {\n",
              "        vertical-align: top;\n",
              "    }\n",
              "\n",
              "    .dataframe thead th {\n",
              "        text-align: right;\n",
              "    }\n",
              "</style>\n",
              "<table border=\"1\" class=\"dataframe\">\n",
              "  <thead>\n",
              "    <tr style=\"text-align: right;\">\n",
              "      <th></th>\n",
              "      <th>utility_id_ferc1</th>\n",
              "      <th>report_year</th>\n",
              "      <th>fuel_qty_burned</th>\n",
              "      <th>fuel_mmbtu_per_unit</th>\n",
              "      <th>fuel_cost_per_unit_burned</th>\n",
              "      <th>fuel_cost_per_unit_delivered</th>\n",
              "      <th>fuel_cost_per_mmbtu</th>\n",
              "    </tr>\n",
              "    <tr>\n",
              "      <th>fuel_type_code_pudl</th>\n",
              "      <th></th>\n",
              "      <th></th>\n",
              "      <th></th>\n",
              "      <th></th>\n",
              "      <th></th>\n",
              "      <th></th>\n",
              "      <th></th>\n",
              "    </tr>\n",
              "  </thead>\n",
              "  <tbody>\n",
              "    <tr>\n",
              "      <th>coal</th>\n",
              "      <td>115.637534</td>\n",
              "      <td>2004.623143</td>\n",
              "      <td>1.903473e+06</td>\n",
              "      <td>20.762780</td>\n",
              "      <td>67.421830</td>\n",
              "      <td>116.951141</td>\n",
              "      <td>1.787190</td>\n",
              "    </tr>\n",
              "    <tr>\n",
              "      <th>gas</th>\n",
              "      <td>124.122062</td>\n",
              "      <td>2005.978060</td>\n",
              "      <td>4.843183e+06</td>\n",
              "      <td>1.021913</td>\n",
              "      <td>13.659397</td>\n",
              "      <td>12.095172</td>\n",
              "      <td>5.408876</td>\n",
              "    </tr>\n",
              "    <tr>\n",
              "      <th>nuclear</th>\n",
              "      <td>107.397311</td>\n",
              "      <td>2002.970660</td>\n",
              "      <td>5.454838e+06</td>\n",
              "      <td>17.582120</td>\n",
              "      <td>4955.157002</td>\n",
              "      <td>28616.915039</td>\n",
              "      <td>1.716559</td>\n",
              "    </tr>\n",
              "    <tr>\n",
              "      <th>oil</th>\n",
              "      <td>113.236235</td>\n",
              "      <td>2007.195933</td>\n",
              "      <td>6.311677e+04</td>\n",
              "      <td>5.814377</td>\n",
              "      <td>168.877086</td>\n",
              "      <td>313.907691</td>\n",
              "      <td>12.698732</td>\n",
              "    </tr>\n",
              "    <tr>\n",
              "      <th>other</th>\n",
              "      <td>110.467066</td>\n",
              "      <td>2001.700599</td>\n",
              "      <td>2.948137e+06</td>\n",
              "      <td>0.572752</td>\n",
              "      <td>18.253856</td>\n",
              "      <td>16.871485</td>\n",
              "      <td>155.084910</td>\n",
              "    </tr>\n",
              "    <tr>\n",
              "      <th>waste</th>\n",
              "      <td>154.253968</td>\n",
              "      <td>2005.650794</td>\n",
              "      <td>1.171914e+05</td>\n",
              "      <td>0.341163</td>\n",
              "      <td>19.518122</td>\n",
              "      <td>18.413052</td>\n",
              "      <td>822.709937</td>\n",
              "    </tr>\n",
              "  </tbody>\n",
              "</table>\n",
              "</div>"
            ],
            "text/plain": [
              "                     utility_id_ferc1  ...  fuel_cost_per_mmbtu\n",
              "fuel_type_code_pudl                    ...                     \n",
              "coal                       115.637534  ...             1.787190\n",
              "gas                        124.122062  ...             5.408876\n",
              "nuclear                    107.397311  ...             1.716559\n",
              "oil                        113.236235  ...            12.698732\n",
              "other                      110.467066  ...           155.084910\n",
              "waste                      154.253968  ...           822.709937\n",
              "\n",
              "[6 rows x 7 columns]"
            ]
          },
          "metadata": {},
          "execution_count": 34
        }
      ]
    },
    {
      "cell_type": "markdown",
      "metadata": {
        "id": "LLIXUh7hm521"
      },
      "source": [
        "Question 10"
      ]
    },
    {
      "cell_type": "code",
      "metadata": {
        "colab": {
          "base_uri": "https://localhost:8080/",
          "height": 855
        },
        "id": "XzYmWx3hiNAj",
        "outputId": "58e79051-67a0-452e-dc18-1bd2222f360c"
      },
      "source": [
        "x.groupby('report_year').mean()"
      ],
      "execution_count": 35,
      "outputs": [
        {
          "output_type": "execute_result",
          "data": {
            "text/html": [
              "<div>\n",
              "<style scoped>\n",
              "    .dataframe tbody tr th:only-of-type {\n",
              "        vertical-align: middle;\n",
              "    }\n",
              "\n",
              "    .dataframe tbody tr th {\n",
              "        vertical-align: top;\n",
              "    }\n",
              "\n",
              "    .dataframe thead th {\n",
              "        text-align: right;\n",
              "    }\n",
              "</style>\n",
              "<table border=\"1\" class=\"dataframe\">\n",
              "  <thead>\n",
              "    <tr style=\"text-align: right;\">\n",
              "      <th></th>\n",
              "      <th>utility_id_ferc1</th>\n",
              "      <th>fuel_qty_burned</th>\n",
              "      <th>fuel_mmbtu_per_unit</th>\n",
              "      <th>fuel_cost_per_unit_burned</th>\n",
              "      <th>fuel_cost_per_unit_delivered</th>\n",
              "      <th>fuel_cost_per_mmbtu</th>\n",
              "    </tr>\n",
              "    <tr>\n",
              "      <th>report_year</th>\n",
              "      <th></th>\n",
              "      <th></th>\n",
              "      <th></th>\n",
              "      <th></th>\n",
              "      <th></th>\n",
              "      <th></th>\n",
              "    </tr>\n",
              "  </thead>\n",
              "  <tbody>\n",
              "    <tr>\n",
              "      <th>1994</th>\n",
              "      <td>106.120648</td>\n",
              "      <td>2.724018e+06</td>\n",
              "      <td>10.638098</td>\n",
              "      <td>213.191996</td>\n",
              "      <td>63.636060</td>\n",
              "      <td>3.086977</td>\n",
              "    </tr>\n",
              "    <tr>\n",
              "      <th>1995</th>\n",
              "      <td>110.139051</td>\n",
              "      <td>3.712067e+06</td>\n",
              "      <td>10.644830</td>\n",
              "      <td>354.422555</td>\n",
              "      <td>32.735269</td>\n",
              "      <td>2.868838</td>\n",
              "    </tr>\n",
              "    <tr>\n",
              "      <th>1996</th>\n",
              "      <td>108.714154</td>\n",
              "      <td>2.544754e+06</td>\n",
              "      <td>10.778041</td>\n",
              "      <td>79.434995</td>\n",
              "      <td>9196.705948</td>\n",
              "      <td>2.695880</td>\n",
              "    </tr>\n",
              "    <tr>\n",
              "      <th>1997</th>\n",
              "      <td>108.366545</td>\n",
              "      <td>2.813503e+06</td>\n",
              "      <td>10.247632</td>\n",
              "      <td>149.482132</td>\n",
              "      <td>11140.197239</td>\n",
              "      <td>3.113486</td>\n",
              "    </tr>\n",
              "    <tr>\n",
              "      <th>1998</th>\n",
              "      <td>109.845528</td>\n",
              "      <td>3.267453e+06</td>\n",
              "      <td>10.704964</td>\n",
              "      <td>126.683519</td>\n",
              "      <td>287.154420</td>\n",
              "      <td>2.775862</td>\n",
              "    </tr>\n",
              "    <tr>\n",
              "      <th>1999</th>\n",
              "      <td>108.222857</td>\n",
              "      <td>3.281281e+06</td>\n",
              "      <td>10.558885</td>\n",
              "      <td>120.053605</td>\n",
              "      <td>25.551627</td>\n",
              "      <td>2.740251</td>\n",
              "    </tr>\n",
              "    <tr>\n",
              "      <th>2000</th>\n",
              "      <td>111.083758</td>\n",
              "      <td>2.472032e+06</td>\n",
              "      <td>9.224475</td>\n",
              "      <td>237.797111</td>\n",
              "      <td>985.362877</td>\n",
              "      <td>4.208403</td>\n",
              "    </tr>\n",
              "    <tr>\n",
              "      <th>2001</th>\n",
              "      <td>113.521386</td>\n",
              "      <td>2.321402e+06</td>\n",
              "      <td>8.371469</td>\n",
              "      <td>133.013010</td>\n",
              "      <td>60.050396</td>\n",
              "      <td>4.612658</td>\n",
              "    </tr>\n",
              "    <tr>\n",
              "      <th>2002</th>\n",
              "      <td>120.354357</td>\n",
              "      <td>2.145645e+06</td>\n",
              "      <td>8.304833</td>\n",
              "      <td>101.179365</td>\n",
              "      <td>47.594361</td>\n",
              "      <td>6.226281</td>\n",
              "    </tr>\n",
              "    <tr>\n",
              "      <th>2003</th>\n",
              "      <td>123.300578</td>\n",
              "      <td>1.888622e+06</td>\n",
              "      <td>8.403746</td>\n",
              "      <td>123.183919</td>\n",
              "      <td>55.663493</td>\n",
              "      <td>7.223933</td>\n",
              "    </tr>\n",
              "    <tr>\n",
              "      <th>2004</th>\n",
              "      <td>121.123322</td>\n",
              "      <td>1.782547e+06</td>\n",
              "      <td>8.332425</td>\n",
              "      <td>154.897398</td>\n",
              "      <td>139.524275</td>\n",
              "      <td>8.441597</td>\n",
              "    </tr>\n",
              "    <tr>\n",
              "      <th>2005</th>\n",
              "      <td>121.028369</td>\n",
              "      <td>1.768876e+06</td>\n",
              "      <td>8.135972</td>\n",
              "      <td>107.111221</td>\n",
              "      <td>41.438184</td>\n",
              "      <td>9.397078</td>\n",
              "    </tr>\n",
              "    <tr>\n",
              "      <th>2006</th>\n",
              "      <td>117.178600</td>\n",
              "      <td>1.957264e+06</td>\n",
              "      <td>8.138090</td>\n",
              "      <td>151.361249</td>\n",
              "      <td>38.657484</td>\n",
              "      <td>10.339898</td>\n",
              "    </tr>\n",
              "    <tr>\n",
              "      <th>2007</th>\n",
              "      <td>116.040348</td>\n",
              "      <td>2.035696e+06</td>\n",
              "      <td>8.027581</td>\n",
              "      <td>202.622082</td>\n",
              "      <td>43.325023</td>\n",
              "      <td>10.735181</td>\n",
              "    </tr>\n",
              "    <tr>\n",
              "      <th>2008</th>\n",
              "      <td>120.785016</td>\n",
              "      <td>2.046455e+06</td>\n",
              "      <td>7.892854</td>\n",
              "      <td>255.954415</td>\n",
              "      <td>58.588197</td>\n",
              "      <td>12.690115</td>\n",
              "    </tr>\n",
              "    <tr>\n",
              "      <th>2009</th>\n",
              "      <td>118.139116</td>\n",
              "      <td>2.154993e+06</td>\n",
              "      <td>7.688192</td>\n",
              "      <td>215.699318</td>\n",
              "      <td>652.694163</td>\n",
              "      <td>10.619376</td>\n",
              "    </tr>\n",
              "    <tr>\n",
              "      <th>2010</th>\n",
              "      <td>117.992863</td>\n",
              "      <td>2.423720e+06</td>\n",
              "      <td>7.575013</td>\n",
              "      <td>262.951203</td>\n",
              "      <td>91.862105</td>\n",
              "      <td>8.551217</td>\n",
              "    </tr>\n",
              "    <tr>\n",
              "      <th>2011</th>\n",
              "      <td>121.069355</td>\n",
              "      <td>2.461332e+06</td>\n",
              "      <td>7.786182</td>\n",
              "      <td>301.754519</td>\n",
              "      <td>59.774667</td>\n",
              "      <td>9.237591</td>\n",
              "    </tr>\n",
              "    <tr>\n",
              "      <th>2012</th>\n",
              "      <td>120.769912</td>\n",
              "      <td>2.747094e+06</td>\n",
              "      <td>7.796063</td>\n",
              "      <td>258.804138</td>\n",
              "      <td>60.994502</td>\n",
              "      <td>8.808904</td>\n",
              "    </tr>\n",
              "    <tr>\n",
              "      <th>2013</th>\n",
              "      <td>122.082569</td>\n",
              "      <td>2.741505e+06</td>\n",
              "      <td>7.797024</td>\n",
              "      <td>255.991023</td>\n",
              "      <td>172.307591</td>\n",
              "      <td>9.308225</td>\n",
              "    </tr>\n",
              "    <tr>\n",
              "      <th>2014</th>\n",
              "      <td>129.263877</td>\n",
              "      <td>2.700008e+06</td>\n",
              "      <td>7.588334</td>\n",
              "      <td>442.359068</td>\n",
              "      <td>192.737183</td>\n",
              "      <td>10.064673</td>\n",
              "    </tr>\n",
              "    <tr>\n",
              "      <th>2015</th>\n",
              "      <td>128.591949</td>\n",
              "      <td>3.340131e+06</td>\n",
              "      <td>7.217820</td>\n",
              "      <td>237.933197</td>\n",
              "      <td>326.535511</td>\n",
              "      <td>8.054361</td>\n",
              "    </tr>\n",
              "    <tr>\n",
              "      <th>2016</th>\n",
              "      <td>133.117021</td>\n",
              "      <td>3.693289e+06</td>\n",
              "      <td>6.846478</td>\n",
              "      <td>247.083959</td>\n",
              "      <td>103.901761</td>\n",
              "      <td>6.915613</td>\n",
              "    </tr>\n",
              "    <tr>\n",
              "      <th>2017</th>\n",
              "      <td>131.126888</td>\n",
              "      <td>3.352850e+06</td>\n",
              "      <td>6.781353</td>\n",
              "      <td>246.281796</td>\n",
              "      <td>46.196861</td>\n",
              "      <td>368.736351</td>\n",
              "    </tr>\n",
              "    <tr>\n",
              "      <th>2018</th>\n",
              "      <td>133.669821</td>\n",
              "      <td>4.178890e+06</td>\n",
              "      <td>6.596546</td>\n",
              "      <td>232.992036</td>\n",
              "      <td>499.269966</td>\n",
              "      <td>7.233643</td>\n",
              "    </tr>\n",
              "  </tbody>\n",
              "</table>\n",
              "</div>"
            ],
            "text/plain": [
              "             utility_id_ferc1  ...  fuel_cost_per_mmbtu\n",
              "report_year                    ...                     \n",
              "1994               106.120648  ...             3.086977\n",
              "1995               110.139051  ...             2.868838\n",
              "1996               108.714154  ...             2.695880\n",
              "1997               108.366545  ...             3.113486\n",
              "1998               109.845528  ...             2.775862\n",
              "1999               108.222857  ...             2.740251\n",
              "2000               111.083758  ...             4.208403\n",
              "2001               113.521386  ...             4.612658\n",
              "2002               120.354357  ...             6.226281\n",
              "2003               123.300578  ...             7.223933\n",
              "2004               121.123322  ...             8.441597\n",
              "2005               121.028369  ...             9.397078\n",
              "2006               117.178600  ...            10.339898\n",
              "2007               116.040348  ...            10.735181\n",
              "2008               120.785016  ...            12.690115\n",
              "2009               118.139116  ...            10.619376\n",
              "2010               117.992863  ...             8.551217\n",
              "2011               121.069355  ...             9.237591\n",
              "2012               120.769912  ...             8.808904\n",
              "2013               122.082569  ...             9.308225\n",
              "2014               129.263877  ...            10.064673\n",
              "2015               128.591949  ...             8.054361\n",
              "2016               133.117021  ...             6.915613\n",
              "2017               131.126888  ...           368.736351\n",
              "2018               133.669821  ...             7.233643\n",
              "\n",
              "[25 rows x 6 columns]"
            ]
          },
          "metadata": {},
          "execution_count": 35
        }
      ]
    },
    {
      "cell_type": "markdown",
      "metadata": {
        "id": "oPIYuF2Altio"
      },
      "source": [
        "Question 5"
      ]
    },
    {
      "cell_type": "code",
      "metadata": {
        "colab": {
          "base_uri": "https://localhost:8080/"
        },
        "id": "u6tXk3gyZSiX",
        "outputId": "0c2d26d2-0352-4114-97f4-9b4f9290321f"
      },
      "source": [
        "x.skew(axis = 0, skipna = True)"
      ],
      "execution_count": 8,
      "outputs": [
        {
          "output_type": "execute_result",
          "data": {
            "text/plain": [
              "utility_id_ferc1                  0.605070\n",
              "report_year                       0.006953\n",
              "fuel_qty_burned                  15.851495\n",
              "fuel_mmbtu_per_unit               4.135217\n",
              "fuel_cost_per_unit_burned        19.787440\n",
              "fuel_cost_per_unit_delivered    105.014227\n",
              "fuel_cost_per_mmbtu             171.675535\n",
              "dtype: float64"
            ]
          },
          "metadata": {},
          "execution_count": 8
        }
      ]
    },
    {
      "cell_type": "code",
      "metadata": {
        "colab": {
          "base_uri": "https://localhost:8080/"
        },
        "id": "p0_hw0odZ-uJ",
        "outputId": "8e4aa990-f6b4-45ca-c5f7-6f5fa2e27dc7"
      },
      "source": [
        "x.kurtosis(axis = 0, skipna = True)"
      ],
      "execution_count": 9,
      "outputs": [
        {
          "output_type": "execute_result",
          "data": {
            "text/plain": [
              "utility_id_ferc1                    1.088432\n",
              "report_year                        -1.145656\n",
              "fuel_qty_burned                   651.369450\n",
              "fuel_mmbtu_per_unit                55.595695\n",
              "fuel_cost_per_unit_burned         485.255851\n",
              "fuel_cost_per_unit_delivered    11765.054226\n",
              "fuel_cost_per_mmbtu             29489.132594\n",
              "dtype: float64"
            ]
          },
          "metadata": {},
          "execution_count": 9
        }
      ]
    },
    {
      "cell_type": "markdown",
      "metadata": {
        "id": "uGDbg2Hsl-N6"
      },
      "source": [
        "Question 4"
      ]
    },
    {
      "cell_type": "code",
      "metadata": {
        "colab": {
          "base_uri": "https://localhost:8080/"
        },
        "id": "esQQFwlyadJE",
        "outputId": "7b7233be-c3b8-4149-fa40-75e79bc17102"
      },
      "source": [
        "x.std(axis = 0, skipna = True)"
      ],
      "execution_count": 11,
      "outputs": [
        {
          "output_type": "execute_result",
          "data": {
            "text/plain": [
              "utility_id_ferc1                7.417835e+01\n",
              "report_year                     7.025483e+00\n",
              "fuel_qty_burned                 9.118004e+06\n",
              "fuel_mmbtu_per_unit             1.060022e+01\n",
              "fuel_cost_per_unit_burned       2.854490e+03\n",
              "fuel_cost_per_unit_delivered    6.877593e+04\n",
              "fuel_cost_per_mmbtu             2.091541e+03\n",
              "dtype: float64"
            ]
          },
          "metadata": {},
          "execution_count": 11
        }
      ]
    },
    {
      "cell_type": "code",
      "metadata": {
        "colab": {
          "base_uri": "https://localhost:8080/"
        },
        "id": "_pyHZoXCbdAR",
        "outputId": "9dbdd5c3-9669-4713-d2fb-9755ec964e1d"
      },
      "source": [
        "x.quantile(.75)"
      ],
      "execution_count": 13,
      "outputs": [
        {
          "output_type": "execute_result",
          "data": {
            "text/plain": [
              "utility_id_ferc1                    176.000\n",
              "report_year                        2012.000\n",
              "fuel_qty_burned                 1424034.000\n",
              "fuel_mmbtu_per_unit                  17.006\n",
              "fuel_cost_per_unit_burned            47.113\n",
              "fuel_cost_per_unit_delivered         42.137\n",
              "fuel_cost_per_mmbtu                   7.745\n",
              "Name: 0.75, dtype: float64"
            ]
          },
          "metadata": {},
          "execution_count": 13
        }
      ]
    },
    {
      "cell_type": "markdown",
      "metadata": {
        "id": "1CFDD0gSnWUW"
      },
      "source": [
        "Question 6"
      ]
    },
    {
      "cell_type": "code",
      "metadata": {
        "colab": {
          "base_uri": "https://localhost:8080/"
        },
        "id": "RvDqOWZ4e2qi",
        "outputId": "edf57051-a5ed-403b-cd1a-244d2e84af10"
      },
      "source": [
        "1 - x.count() / len(x)"
      ],
      "execution_count": 45,
      "outputs": [
        {
          "output_type": "execute_result",
          "data": {
            "text/plain": [
              "record_id                       0.000000\n",
              "utility_id_ferc1                0.000000\n",
              "report_year                     0.000000\n",
              "plant_name_ferc1                0.000000\n",
              "fuel_type_code_pudl             0.000000\n",
              "fuel_unit                       0.006097\n",
              "fuel_qty_burned                 0.000000\n",
              "fuel_mmbtu_per_unit             0.000000\n",
              "fuel_cost_per_unit_burned       0.000000\n",
              "fuel_cost_per_unit_delivered    0.000000\n",
              "fuel_cost_per_mmbtu             0.000000\n",
              "dtype: float64"
            ]
          },
          "metadata": {},
          "execution_count": 45
        }
      ]
    },
    {
      "cell_type": "markdown",
      "metadata": {
        "id": "UWzB4HeQmgzk"
      },
      "source": [
        "Question 8"
      ]
    },
    {
      "cell_type": "code",
      "metadata": {
        "colab": {
          "base_uri": "https://localhost:8080/",
          "height": 266
        },
        "id": "w8vaN9t9fWde",
        "outputId": "5805df7e-d261-4cc2-80c3-eb32b306fa17"
      },
      "source": [
        "x.corr()"
      ],
      "execution_count": 31,
      "outputs": [
        {
          "output_type": "execute_result",
          "data": {
            "text/html": [
              "<div>\n",
              "<style scoped>\n",
              "    .dataframe tbody tr th:only-of-type {\n",
              "        vertical-align: middle;\n",
              "    }\n",
              "\n",
              "    .dataframe tbody tr th {\n",
              "        vertical-align: top;\n",
              "    }\n",
              "\n",
              "    .dataframe thead th {\n",
              "        text-align: right;\n",
              "    }\n",
              "</style>\n",
              "<table border=\"1\" class=\"dataframe\">\n",
              "  <thead>\n",
              "    <tr style=\"text-align: right;\">\n",
              "      <th></th>\n",
              "      <th>utility_id_ferc1</th>\n",
              "      <th>report_year</th>\n",
              "      <th>fuel_qty_burned</th>\n",
              "      <th>fuel_mmbtu_per_unit</th>\n",
              "      <th>fuel_cost_per_unit_burned</th>\n",
              "      <th>fuel_cost_per_unit_delivered</th>\n",
              "      <th>fuel_cost_per_mmbtu</th>\n",
              "    </tr>\n",
              "  </thead>\n",
              "  <tbody>\n",
              "    <tr>\n",
              "      <th>utility_id_ferc1</th>\n",
              "      <td>1.000000</td>\n",
              "      <td>0.093323</td>\n",
              "      <td>-0.057447</td>\n",
              "      <td>-0.066946</td>\n",
              "      <td>-0.037863</td>\n",
              "      <td>-0.016414</td>\n",
              "      <td>0.006122</td>\n",
              "    </tr>\n",
              "    <tr>\n",
              "      <th>report_year</th>\n",
              "      <td>0.093323</td>\n",
              "      <td>1.000000</td>\n",
              "      <td>0.012952</td>\n",
              "      <td>-0.110853</td>\n",
              "      <td>0.013599</td>\n",
              "      <td>-0.014043</td>\n",
              "      <td>0.010261</td>\n",
              "    </tr>\n",
              "    <tr>\n",
              "      <th>fuel_qty_burned</th>\n",
              "      <td>-0.057447</td>\n",
              "      <td>0.012952</td>\n",
              "      <td>1.000000</td>\n",
              "      <td>-0.080946</td>\n",
              "      <td>-0.018535</td>\n",
              "      <td>-0.003551</td>\n",
              "      <td>-0.001896</td>\n",
              "    </tr>\n",
              "    <tr>\n",
              "      <th>fuel_mmbtu_per_unit</th>\n",
              "      <td>-0.066946</td>\n",
              "      <td>-0.110853</td>\n",
              "      <td>-0.080946</td>\n",
              "      <td>1.000000</td>\n",
              "      <td>-0.010034</td>\n",
              "      <td>-0.009039</td>\n",
              "      <td>-0.005884</td>\n",
              "    </tr>\n",
              "    <tr>\n",
              "      <th>fuel_cost_per_unit_burned</th>\n",
              "      <td>-0.037863</td>\n",
              "      <td>0.013599</td>\n",
              "      <td>-0.018535</td>\n",
              "      <td>-0.010034</td>\n",
              "      <td>1.000000</td>\n",
              "      <td>0.011007</td>\n",
              "      <td>-0.000437</td>\n",
              "    </tr>\n",
              "    <tr>\n",
              "      <th>fuel_cost_per_unit_delivered</th>\n",
              "      <td>-0.016414</td>\n",
              "      <td>-0.014043</td>\n",
              "      <td>-0.003551</td>\n",
              "      <td>-0.009039</td>\n",
              "      <td>0.011007</td>\n",
              "      <td>1.000000</td>\n",
              "      <td>-0.000109</td>\n",
              "    </tr>\n",
              "    <tr>\n",
              "      <th>fuel_cost_per_mmbtu</th>\n",
              "      <td>0.006122</td>\n",
              "      <td>0.010261</td>\n",
              "      <td>-0.001896</td>\n",
              "      <td>-0.005884</td>\n",
              "      <td>-0.000437</td>\n",
              "      <td>-0.000109</td>\n",
              "      <td>1.000000</td>\n",
              "    </tr>\n",
              "  </tbody>\n",
              "</table>\n",
              "</div>"
            ],
            "text/plain": [
              "                              utility_id_ferc1  ...  fuel_cost_per_mmbtu\n",
              "utility_id_ferc1                      1.000000  ...             0.006122\n",
              "report_year                           0.093323  ...             0.010261\n",
              "fuel_qty_burned                      -0.057447  ...            -0.001896\n",
              "fuel_mmbtu_per_unit                  -0.066946  ...            -0.005884\n",
              "fuel_cost_per_unit_burned            -0.037863  ...            -0.000437\n",
              "fuel_cost_per_unit_delivered         -0.016414  ...            -0.000109\n",
              "fuel_cost_per_mmbtu                   0.006122  ...             1.000000\n",
              "\n",
              "[7 rows x 7 columns]"
            ]
          },
          "metadata": {},
          "execution_count": 31
        }
      ]
    }
  ]
}